{
  "cells": [
    {
      "cell_type": "code",
      "execution_count": null,
      "metadata": {
        "id": "3-NHKh-pfs-b"
      },
      "outputs": [],
      "source": [
        "import pandas as pd\n",
        "import numpy as np\n",
        "import matplotlib.pyplot as plt\n",
        "import nltk\n",
        "from nltk.corpus import stopwords\n",
        "from nltk.stem import PorterStemmer\n",
        "from nltk import NaiveBayesClassifier\n",
        "from sklearn.model_selection import train_test_split\n",
        "from nltk.stem import PorterStemmer\n",
        "import re"
      ]
    },
    {
      "cell_type": "code",
      "execution_count": null,
      "metadata": {
        "colab": {
          "base_uri": "https://localhost:8080/"
        },
        "id": "8Gl5E0Dpf2Bt",
        "outputId": "507ae394-35cf-4437-e2af-806f1cdb6a05"
      },
      "outputs": [
        {
          "name": "stdout",
          "output_type": "stream",
          "text": [
            "Mounted at /content/drive\n"
          ]
        }
      ],
      "source": []
    },
    {
      "cell_type": "code",
      "execution_count": null,
      "metadata": {
        "id": "7eDXhYfigURC"
      },
      "outputs": [],
      "source": [
        "df = pd.read_csv('conteudo')"
      ]
    },
    {
      "cell_type": "code",
      "execution_count": null,
      "metadata": {
        "colab": {
          "base_uri": "https://localhost:8080/",
          "height": 424
        },
        "id": "B7g4vW57g5DT",
        "outputId": "6d39dec5-dcc7-4446-abba-ddf1c35a543b"
      },
      "outputs": [
        {
          "data": {
            "application/vnd.google.colaboratory.intrinsic+json": {
              "type": "dataframe",
              "variable_name": "df"
            },
            "text/html": [
              "\n",
              "  <div id=\"df-ddda64e8-c62d-4393-a493-f5f86625bb79\" class=\"colab-df-container\">\n",
              "    <div>\n",
              "<style scoped>\n",
              "    .dataframe tbody tr th:only-of-type {\n",
              "        vertical-align: middle;\n",
              "    }\n",
              "\n",
              "    .dataframe tbody tr th {\n",
              "        vertical-align: top;\n",
              "    }\n",
              "\n",
              "    .dataframe thead th {\n",
              "        text-align: right;\n",
              "    }\n",
              "</style>\n",
              "<table border=\"1\" class=\"dataframe\">\n",
              "  <thead>\n",
              "    <tr style=\"text-align: right;\">\n",
              "      <th></th>\n",
              "      <th>texto</th>\n",
              "      <th>polaridade</th>\n",
              "    </tr>\n",
              "  </thead>\n",
              "  <tbody>\n",
              "    <tr>\n",
              "      <th>0</th>\n",
              "      <td>Bem macio e felpudo...recomendo.  Preço imbatí...</td>\n",
              "      <td>1.0</td>\n",
              "    </tr>\n",
              "    <tr>\n",
              "      <th>1</th>\n",
              "      <td>Produto excepcional!  recomendo!!! inovador e ...</td>\n",
              "      <td>1.0</td>\n",
              "    </tr>\n",
              "    <tr>\n",
              "      <th>2</th>\n",
              "      <td>recebi o produto antes do prazo mas veio com d...</td>\n",
              "      <td>0.0</td>\n",
              "    </tr>\n",
              "    <tr>\n",
              "      <th>3</th>\n",
              "      <td>Bom custo beneficio. Adequado para pessoas que...</td>\n",
              "      <td>1.0</td>\n",
              "    </tr>\n",
              "    <tr>\n",
              "      <th>4</th>\n",
              "      <td>ótmo produto atendeu as expectativas, a entreg...</td>\n",
              "      <td>1.0</td>\n",
              "    </tr>\n",
              "    <tr>\n",
              "      <th>...</th>\n",
              "      <td>...</td>\n",
              "      <td>...</td>\n",
              "    </tr>\n",
              "    <tr>\n",
              "      <th>116053</th>\n",
              "      <td>Ótimo jogo, um dos melhores que joguei. Entreg...</td>\n",
              "      <td>1.0</td>\n",
              "    </tr>\n",
              "    <tr>\n",
              "      <th>116054</th>\n",
              "      <td>SMARTHPHONE  PERFEITO  MUITO  BOM  E  A  ECONO...</td>\n",
              "      <td>1.0</td>\n",
              "    </tr>\n",
              "    <tr>\n",
              "      <th>116055</th>\n",
              "      <td>Eu estou muito chateado com isso gostaria que ...</td>\n",
              "      <td>0.0</td>\n",
              "    </tr>\n",
              "    <tr>\n",
              "      <th>116056</th>\n",
              "      <td>O produto anunciado no site dizia ser  100% al...</td>\n",
              "      <td>0.0</td>\n",
              "    </tr>\n",
              "    <tr>\n",
              "      <th>116057</th>\n",
              "      <td>Não recebi o produto e consta como entregue no...</td>\n",
              "      <td>0.0</td>\n",
              "    </tr>\n",
              "  </tbody>\n",
              "</table>\n",
              "<p>116058 rows × 2 columns</p>\n",
              "</div>\n",
              "    <div class=\"colab-df-buttons\">\n",
              "\n",
              "  <div class=\"colab-df-container\">\n",
              "    <button class=\"colab-df-convert\" onclick=\"convertToInteractive('df-ddda64e8-c62d-4393-a493-f5f86625bb79')\"\n",
              "            title=\"Convert this dataframe to an interactive table.\"\n",
              "            style=\"display:none;\">\n",
              "\n",
              "  <svg xmlns=\"http://www.w3.org/2000/svg\" height=\"24px\" viewBox=\"0 -960 960 960\">\n",
              "    <path d=\"M120-120v-720h720v720H120Zm60-500h600v-160H180v160Zm220 220h160v-160H400v160Zm0 220h160v-160H400v160ZM180-400h160v-160H180v160Zm440 0h160v-160H620v160ZM180-180h160v-160H180v160Zm440 0h160v-160H620v160Z\"/>\n",
              "  </svg>\n",
              "    </button>\n",
              "\n",
              "  <style>\n",
              "    .colab-df-container {\n",
              "      display:flex;\n",
              "      gap: 12px;\n",
              "    }\n",
              "\n",
              "    .colab-df-convert {\n",
              "      background-color: #E8F0FE;\n",
              "      border: none;\n",
              "      border-radius: 50%;\n",
              "      cursor: pointer;\n",
              "      display: none;\n",
              "      fill: #1967D2;\n",
              "      height: 32px;\n",
              "      padding: 0 0 0 0;\n",
              "      width: 32px;\n",
              "    }\n",
              "\n",
              "    .colab-df-convert:hover {\n",
              "      background-color: #E2EBFA;\n",
              "      box-shadow: 0px 1px 2px rgba(60, 64, 67, 0.3), 0px 1px 3px 1px rgba(60, 64, 67, 0.15);\n",
              "      fill: #174EA6;\n",
              "    }\n",
              "\n",
              "    .colab-df-buttons div {\n",
              "      margin-bottom: 4px;\n",
              "    }\n",
              "\n",
              "    [theme=dark] .colab-df-convert {\n",
              "      background-color: #3B4455;\n",
              "      fill: #D2E3FC;\n",
              "    }\n",
              "\n",
              "    [theme=dark] .colab-df-convert:hover {\n",
              "      background-color: #434B5C;\n",
              "      box-shadow: 0px 1px 3px 1px rgba(0, 0, 0, 0.15);\n",
              "      filter: drop-shadow(0px 1px 2px rgba(0, 0, 0, 0.3));\n",
              "      fill: #FFFFFF;\n",
              "    }\n",
              "  </style>\n",
              "\n",
              "    <script>\n",
              "      const buttonEl =\n",
              "        document.querySelector('#df-ddda64e8-c62d-4393-a493-f5f86625bb79 button.colab-df-convert');\n",
              "      buttonEl.style.display =\n",
              "        google.colab.kernel.accessAllowed ? 'block' : 'none';\n",
              "\n",
              "      async function convertToInteractive(key) {\n",
              "        const element = document.querySelector('#df-ddda64e8-c62d-4393-a493-f5f86625bb79');\n",
              "        const dataTable =\n",
              "          await google.colab.kernel.invokeFunction('convertToInteractive',\n",
              "                                                    [key], {});\n",
              "        if (!dataTable) return;\n",
              "\n",
              "        const docLinkHtml = 'Like what you see? Visit the ' +\n",
              "          '<a target=\"_blank\" href=https://colab.research.google.com/notebooks/data_table.ipynb>data table notebook</a>'\n",
              "          + ' to learn more about interactive tables.';\n",
              "        element.innerHTML = '';\n",
              "        dataTable['output_type'] = 'display_data';\n",
              "        await google.colab.output.renderOutput(dataTable, element);\n",
              "        const docLink = document.createElement('div');\n",
              "        docLink.innerHTML = docLinkHtml;\n",
              "        element.appendChild(docLink);\n",
              "      }\n",
              "    </script>\n",
              "  </div>\n",
              "\n",
              "\n",
              "    <div id=\"df-af1ecfad-5fd3-49f0-80d4-553685dffb94\">\n",
              "      <button class=\"colab-df-quickchart\" onclick=\"quickchart('df-af1ecfad-5fd3-49f0-80d4-553685dffb94')\"\n",
              "                title=\"Suggest charts\"\n",
              "                style=\"display:none;\">\n",
              "\n",
              "<svg xmlns=\"http://www.w3.org/2000/svg\" height=\"24px\"viewBox=\"0 0 24 24\"\n",
              "     width=\"24px\">\n",
              "    <g>\n",
              "        <path d=\"M19 3H5c-1.1 0-2 .9-2 2v14c0 1.1.9 2 2 2h14c1.1 0 2-.9 2-2V5c0-1.1-.9-2-2-2zM9 17H7v-7h2v7zm4 0h-2V7h2v10zm4 0h-2v-4h2v4z\"/>\n",
              "    </g>\n",
              "</svg>\n",
              "      </button>\n",
              "\n",
              "<style>\n",
              "  .colab-df-quickchart {\n",
              "      --bg-color: #E8F0FE;\n",
              "      --fill-color: #1967D2;\n",
              "      --hover-bg-color: #E2EBFA;\n",
              "      --hover-fill-color: #174EA6;\n",
              "      --disabled-fill-color: #AAA;\n",
              "      --disabled-bg-color: #DDD;\n",
              "  }\n",
              "\n",
              "  [theme=dark] .colab-df-quickchart {\n",
              "      --bg-color: #3B4455;\n",
              "      --fill-color: #D2E3FC;\n",
              "      --hover-bg-color: #434B5C;\n",
              "      --hover-fill-color: #FFFFFF;\n",
              "      --disabled-bg-color: #3B4455;\n",
              "      --disabled-fill-color: #666;\n",
              "  }\n",
              "\n",
              "  .colab-df-quickchart {\n",
              "    background-color: var(--bg-color);\n",
              "    border: none;\n",
              "    border-radius: 50%;\n",
              "    cursor: pointer;\n",
              "    display: none;\n",
              "    fill: var(--fill-color);\n",
              "    height: 32px;\n",
              "    padding: 0;\n",
              "    width: 32px;\n",
              "  }\n",
              "\n",
              "  .colab-df-quickchart:hover {\n",
              "    background-color: var(--hover-bg-color);\n",
              "    box-shadow: 0 1px 2px rgba(60, 64, 67, 0.3), 0 1px 3px 1px rgba(60, 64, 67, 0.15);\n",
              "    fill: var(--button-hover-fill-color);\n",
              "  }\n",
              "\n",
              "  .colab-df-quickchart-complete:disabled,\n",
              "  .colab-df-quickchart-complete:disabled:hover {\n",
              "    background-color: var(--disabled-bg-color);\n",
              "    fill: var(--disabled-fill-color);\n",
              "    box-shadow: none;\n",
              "  }\n",
              "\n",
              "  .colab-df-spinner {\n",
              "    border: 2px solid var(--fill-color);\n",
              "    border-color: transparent;\n",
              "    border-bottom-color: var(--fill-color);\n",
              "    animation:\n",
              "      spin 1s steps(1) infinite;\n",
              "  }\n",
              "\n",
              "  @keyframes spin {\n",
              "    0% {\n",
              "      border-color: transparent;\n",
              "      border-bottom-color: var(--fill-color);\n",
              "      border-left-color: var(--fill-color);\n",
              "    }\n",
              "    20% {\n",
              "      border-color: transparent;\n",
              "      border-left-color: var(--fill-color);\n",
              "      border-top-color: var(--fill-color);\n",
              "    }\n",
              "    30% {\n",
              "      border-color: transparent;\n",
              "      border-left-color: var(--fill-color);\n",
              "      border-top-color: var(--fill-color);\n",
              "      border-right-color: var(--fill-color);\n",
              "    }\n",
              "    40% {\n",
              "      border-color: transparent;\n",
              "      border-right-color: var(--fill-color);\n",
              "      border-top-color: var(--fill-color);\n",
              "    }\n",
              "    60% {\n",
              "      border-color: transparent;\n",
              "      border-right-color: var(--fill-color);\n",
              "    }\n",
              "    80% {\n",
              "      border-color: transparent;\n",
              "      border-right-color: var(--fill-color);\n",
              "      border-bottom-color: var(--fill-color);\n",
              "    }\n",
              "    90% {\n",
              "      border-color: transparent;\n",
              "      border-bottom-color: var(--fill-color);\n",
              "    }\n",
              "  }\n",
              "</style>\n",
              "\n",
              "      <script>\n",
              "        async function quickchart(key) {\n",
              "          const quickchartButtonEl =\n",
              "            document.querySelector('#' + key + ' button');\n",
              "          quickchartButtonEl.disabled = true;  // To prevent multiple clicks.\n",
              "          quickchartButtonEl.classList.add('colab-df-spinner');\n",
              "          try {\n",
              "            const charts = await google.colab.kernel.invokeFunction(\n",
              "                'suggestCharts', [key], {});\n",
              "          } catch (error) {\n",
              "            console.error('Error during call to suggestCharts:', error);\n",
              "          }\n",
              "          quickchartButtonEl.classList.remove('colab-df-spinner');\n",
              "          quickchartButtonEl.classList.add('colab-df-quickchart-complete');\n",
              "        }\n",
              "        (() => {\n",
              "          let quickchartButtonEl =\n",
              "            document.querySelector('#df-af1ecfad-5fd3-49f0-80d4-553685dffb94 button');\n",
              "          quickchartButtonEl.style.display =\n",
              "            google.colab.kernel.accessAllowed ? 'block' : 'none';\n",
              "        })();\n",
              "      </script>\n",
              "    </div>\n",
              "\n",
              "  <div id=\"id_e38e0f7b-f38f-4c4b-8502-95a093800923\">\n",
              "    <style>\n",
              "      .colab-df-generate {\n",
              "        background-color: #E8F0FE;\n",
              "        border: none;\n",
              "        border-radius: 50%;\n",
              "        cursor: pointer;\n",
              "        display: none;\n",
              "        fill: #1967D2;\n",
              "        height: 32px;\n",
              "        padding: 0 0 0 0;\n",
              "        width: 32px;\n",
              "      }\n",
              "\n",
              "      .colab-df-generate:hover {\n",
              "        background-color: #E2EBFA;\n",
              "        box-shadow: 0px 1px 2px rgba(60, 64, 67, 0.3), 0px 1px 3px 1px rgba(60, 64, 67, 0.15);\n",
              "        fill: #174EA6;\n",
              "      }\n",
              "\n",
              "      [theme=dark] .colab-df-generate {\n",
              "        background-color: #3B4455;\n",
              "        fill: #D2E3FC;\n",
              "      }\n",
              "\n",
              "      [theme=dark] .colab-df-generate:hover {\n",
              "        background-color: #434B5C;\n",
              "        box-shadow: 0px 1px 3px 1px rgba(0, 0, 0, 0.15);\n",
              "        filter: drop-shadow(0px 1px 2px rgba(0, 0, 0, 0.3));\n",
              "        fill: #FFFFFF;\n",
              "      }\n",
              "    </style>\n",
              "    <button class=\"colab-df-generate\" onclick=\"generateWithVariable('df')\"\n",
              "            title=\"Generate code using this dataframe.\"\n",
              "            style=\"display:none;\">\n",
              "\n",
              "  <svg xmlns=\"http://www.w3.org/2000/svg\" height=\"24px\"viewBox=\"0 0 24 24\"\n",
              "       width=\"24px\">\n",
              "    <path d=\"M7,19H8.4L18.45,9,17,7.55,7,17.6ZM5,21V16.75L18.45,3.32a2,2,0,0,1,2.83,0l1.4,1.43a1.91,1.91,0,0,1,.58,1.4,1.91,1.91,0,0,1-.58,1.4L9.25,21ZM18.45,9,17,7.55Zm-12,3A5.31,5.31,0,0,0,4.9,8.1,5.31,5.31,0,0,0,1,6.5,5.31,5.31,0,0,0,4.9,4.9,5.31,5.31,0,0,0,6.5,1,5.31,5.31,0,0,0,8.1,4.9,5.31,5.31,0,0,0,12,6.5,5.46,5.46,0,0,0,6.5,12Z\"/>\n",
              "  </svg>\n",
              "    </button>\n",
              "    <script>\n",
              "      (() => {\n",
              "      const buttonEl =\n",
              "        document.querySelector('#id_e38e0f7b-f38f-4c4b-8502-95a093800923 button.colab-df-generate');\n",
              "      buttonEl.style.display =\n",
              "        google.colab.kernel.accessAllowed ? 'block' : 'none';\n",
              "\n",
              "      buttonEl.onclick = () => {\n",
              "        google.colab.notebook.generateWithVariable('df');\n",
              "      }\n",
              "      })();\n",
              "    </script>\n",
              "  </div>\n",
              "\n",
              "    </div>\n",
              "  </div>\n"
            ],
            "text/plain": [
              "                                                    texto  polaridade\n",
              "0       Bem macio e felpudo...recomendo.  Preço imbatí...         1.0\n",
              "1       Produto excepcional!  recomendo!!! inovador e ...         1.0\n",
              "2       recebi o produto antes do prazo mas veio com d...         0.0\n",
              "3       Bom custo beneficio. Adequado para pessoas que...         1.0\n",
              "4       ótmo produto atendeu as expectativas, a entreg...         1.0\n",
              "...                                                   ...         ...\n",
              "116053  Ótimo jogo, um dos melhores que joguei. Entreg...         1.0\n",
              "116054  SMARTHPHONE  PERFEITO  MUITO  BOM  E  A  ECONO...         1.0\n",
              "116055  Eu estou muito chateado com isso gostaria que ...         0.0\n",
              "116056  O produto anunciado no site dizia ser  100% al...         0.0\n",
              "116057  Não recebi o produto e consta como entregue no...         0.0\n",
              "\n",
              "[116058 rows x 2 columns]"
            ]
          },
          "execution_count": 26,
          "metadata": {},
          "output_type": "execute_result"
        }
      ],
      "source": [
        "df"
      ]
    },
    {
      "cell_type": "markdown",
      "metadata": {
        "id": "8xlry47Ojsid"
      },
      "source": [
        "Tratamento dos dados, e faz a rede neural.\n",
        "\n",
        "depois balancear os dados: sugestão, eliminação. Após rede neural\n",
        "\n",
        "Depois utilizar o naive-bayes"
      ]
    },
    {
      "cell_type": "markdown",
      "metadata": {
        "id": "-N-1Jn-dlP59"
      },
      "source": [
        "# **Tratamento dos dados**"
      ]
    },
    {
      "cell_type": "code",
      "execution_count": null,
      "metadata": {
        "colab": {
          "base_uri": "https://localhost:8080/"
        },
        "id": "aVQ4lV8wmFjJ",
        "outputId": "666d5f50-deb8-41ac-9bac-a52bc9f62751"
      },
      "outputs": [
        {
          "name": "stderr",
          "output_type": "stream",
          "text": [
            "[nltk_data] Downloading package stopwords to /root/nltk_data...\n",
            "[nltk_data]   Package stopwords is already up-to-date!\n"
          ]
        }
      ],
      "source": [
        "nltk.download('stopwords')\n",
        "stop_portugues = set(stopwords.words('portuguese'))"
      ]
    },
    {
      "cell_type": "code",
      "execution_count": null,
      "metadata": {
        "colab": {
          "base_uri": "https://localhost:8080/"
        },
        "id": "6Zu1S104qZit",
        "outputId": "1427dd35-6466-4794-d04c-4fdfa8e61a2d"
      },
      "outputs": [
        {
          "name": "stdout",
          "output_type": "stream",
          "text": [
            "Palavra 'não' removida do conjunto de stopwords.\n",
            "'nao' não encontrada no conjunto de stopwords padrão (já não seria removida).\n"
          ]
        }
      ],
      "source": [
        "for palavra_manter in palavras_a_manter:\n",
        "    if palavra_manter in stop_portugues:\n",
        "        stop_portugues.remove(palavra_manter)\n",
        "        print(f\"Palavra '{palavra_manter}' removida do conjunto de stopwords.\")\n",
        "    else:\n",
        "        print(f\"'{palavra_manter}' não encontrada no conjunto de stopwords padrão (já não seria removida).\")"
      ]
    },
    {
      "cell_type": "code",
      "execution_count": null,
      "metadata": {
        "colab": {
          "base_uri": "https://localhost:8080/"
        },
        "collapsed": true,
        "id": "sl4U6ZSZmU2L",
        "outputId": "1b6dcbfa-52d3-4747-f05a-26b48e57101e"
      },
      "outputs": [
        {
          "name": "stdout",
          "output_type": "stream",
          "text": [
            "1. a\n",
            "2. ao\n",
            "3. aos\n",
            "4. aquela\n",
            "5. aquelas\n",
            "6. aquele\n",
            "7. aqueles\n",
            "8. aquilo\n",
            "9. as\n",
            "10. até\n",
            "11. com\n",
            "12. como\n",
            "13. da\n",
            "14. das\n",
            "15. de\n",
            "16. dela\n",
            "17. delas\n",
            "18. dele\n",
            "19. deles\n",
            "20. depois\n",
            "21. do\n",
            "22. dos\n",
            "23. e\n",
            "24. ela\n",
            "25. elas\n",
            "26. ele\n",
            "27. eles\n",
            "28. em\n",
            "29. entre\n",
            "30. era\n",
            "31. eram\n",
            "32. essa\n",
            "33. essas\n",
            "34. esse\n",
            "35. esses\n",
            "36. esta\n",
            "37. estamos\n",
            "38. estar\n",
            "39. estas\n",
            "40. estava\n",
            "41. estavam\n",
            "42. este\n",
            "43. esteja\n",
            "44. estejam\n",
            "45. estejamos\n",
            "46. estes\n",
            "47. esteve\n",
            "48. estive\n",
            "49. estivemos\n",
            "50. estiver\n",
            "51. estivera\n",
            "52. estiveram\n",
            "53. estiverem\n",
            "54. estivermos\n",
            "55. estivesse\n",
            "56. estivessem\n",
            "57. estivéramos\n",
            "58. estivéssemos\n",
            "59. estou\n",
            "60. está\n",
            "61. estávamos\n",
            "62. estão\n",
            "63. eu\n",
            "64. foi\n",
            "65. fomos\n",
            "66. for\n",
            "67. fora\n",
            "68. foram\n",
            "69. forem\n",
            "70. formos\n",
            "71. fosse\n",
            "72. fossem\n",
            "73. fui\n",
            "74. fôramos\n",
            "75. fôssemos\n",
            "76. haja\n",
            "77. hajam\n",
            "78. hajamos\n",
            "79. havemos\n",
            "80. haver\n",
            "81. hei\n",
            "82. houve\n",
            "83. houvemos\n",
            "84. houver\n",
            "85. houvera\n",
            "86. houveram\n",
            "87. houverei\n",
            "88. houverem\n",
            "89. houveremos\n",
            "90. houveria\n",
            "91. houveriam\n",
            "92. houvermos\n",
            "93. houverá\n",
            "94. houverão\n",
            "95. houveríamos\n",
            "96. houvesse\n",
            "97. houvessem\n",
            "98. houvéramos\n",
            "99. houvéssemos\n",
            "100. há\n",
            "101. hão\n",
            "102. isso\n",
            "103. isto\n",
            "104. já\n",
            "105. lhe\n",
            "106. lhes\n",
            "107. mais\n",
            "108. mas\n",
            "109. me\n",
            "110. mesmo\n",
            "111. meu\n",
            "112. meus\n",
            "113. minha\n",
            "114. minhas\n",
            "115. muito\n",
            "116. na\n",
            "117. nas\n",
            "118. nem\n",
            "119. no\n",
            "120. nos\n",
            "121. nossa\n",
            "122. nossas\n",
            "123. nosso\n",
            "124. nossos\n",
            "125. num\n",
            "126. numa\n",
            "127. nós\n",
            "128. o\n",
            "129. os\n",
            "130. ou\n",
            "131. para\n",
            "132. pela\n",
            "133. pelas\n",
            "134. pelo\n",
            "135. pelos\n",
            "136. por\n",
            "137. qual\n",
            "138. quando\n",
            "139. que\n",
            "140. quem\n",
            "141. se\n",
            "142. seja\n",
            "143. sejam\n",
            "144. sejamos\n",
            "145. sem\n",
            "146. ser\n",
            "147. serei\n",
            "148. seremos\n",
            "149. seria\n",
            "150. seriam\n",
            "151. será\n",
            "152. serão\n",
            "153. seríamos\n",
            "154. seu\n",
            "155. seus\n",
            "156. somos\n",
            "157. sou\n",
            "158. sua\n",
            "159. suas\n",
            "160. são\n",
            "161. só\n",
            "162. também\n",
            "163. te\n",
            "164. tem\n",
            "165. temos\n",
            "166. tenha\n",
            "167. tenham\n",
            "168. tenhamos\n",
            "169. tenho\n",
            "170. terei\n",
            "171. teremos\n",
            "172. teria\n",
            "173. teriam\n",
            "174. terá\n",
            "175. terão\n",
            "176. teríamos\n",
            "177. teu\n",
            "178. teus\n",
            "179. teve\n",
            "180. tinha\n",
            "181. tinham\n",
            "182. tive\n",
            "183. tivemos\n",
            "184. tiver\n",
            "185. tivera\n",
            "186. tiveram\n",
            "187. tiverem\n",
            "188. tivermos\n",
            "189. tivesse\n",
            "190. tivessem\n",
            "191. tivéramos\n",
            "192. tivéssemos\n",
            "193. tu\n",
            "194. tua\n",
            "195. tuas\n",
            "196. tém\n",
            "197. tínhamos\n",
            "198. um\n",
            "199. uma\n",
            "200. você\n",
            "201. vocês\n",
            "202. vos\n",
            "203. à\n",
            "204. às\n",
            "205. é\n",
            "206. éramos\n"
          ]
        }
      ],
      "source": [
        "for i, palavra in enumerate(sorted(stop_portugues)):\n",
        "    print(f\"{i+1}. {palavra}\")"
      ]
    },
    {
      "cell_type": "code",
      "execution_count": null,
      "metadata": {
        "id": "QZQK2W_7lSx1"
      },
      "outputs": [],
      "source": [
        "def limpar_texto_simples_portugues(serie_de_dados_texto):\n",
        "    textos_limpos = []\n",
        "    for texto_original in serie_de_dados_texto:\n",
        "        # Garante que a entrada é uma string, trata valores não-string (como NaN)\n",
        "        if not isinstance(texto_original, str):\n",
        "            textos_limpos.append(\"\")\n",
        "            continue\n",
        "\n",
        "        # 1. Converter para minúsculas\n",
        "        texto_processado = texto_original.lower()\n",
        "\n",
        "        # 2. Remover pontuação e números (mantendo apenas letras acentuadas e espaços)\n",
        "        # Regex: ^a-záàâãéêíóôõúüç\\s => aceita letras de 'a' a 'z', acentuadas, 'ç' e espaços\n",
        "        texto_processado = re.sub(r'[^a-záàâãéêíóôõúüç\\s]', ' ', texto_processado)\n",
        "\n",
        "        # 3. Remover múltiplos espaços em branco e espaços nas bordas\n",
        "        texto_processado = re.sub(r'\\s+', ' ', texto_processado).strip()\n",
        "\n",
        "        # 4. Tokenização e Remoção de Stopwords\n",
        "        palavras_filtradas = [\n",
        "            palavra for palavra in texto_processado.split()\n",
        "            if palavra not in paradas_portugues and palavra # Garante que a palavra não é vazia\n",
        "        ]\n",
        "\n",
        "        textos_limpos.append(' '.join(palavras_filtradas))\n",
        "    return textos_limpos"
      ]
    },
    {
      "cell_type": "code",
      "execution_count": null,
      "metadata": {
        "colab": {
          "base_uri": "https://localhost:8080/"
        },
        "id": "CkAtjSCHl4NI",
        "outputId": "11887a51-4f4d-467b-b19c-bfcb350b1084"
      },
      "outputs": [
        {
          "name": "stdout",
          "output_type": "stream",
          "text": [
            "\n",
            "--- Aplicando a função de limpeza simplificada ao conjunto de dados ---\n"
          ]
        }
      ],
      "source": [
        "print(\"\\n--- Aplicando a função de limpeza simplificada ao conjunto de dados ---\")\n",
        "df['texto'] = limpar_texto_simples_portugues(df['texto'])"
      ]
    },
    {
      "cell_type": "code",
      "execution_count": null,
      "metadata": {
        "colab": {
          "base_uri": "https://localhost:8080/",
          "height": 424
        },
        "id": "6dZjVuHEnzSh",
        "outputId": "f10a663b-86b0-4888-c9a2-baa0548c38b1"
      },
      "outputs": [
        {
          "data": {
            "application/vnd.google.colaboratory.intrinsic+json": {
              "type": "dataframe",
              "variable_name": "df"
            },
            "text/html": [
              "\n",
              "  <div id=\"df-dda789f5-907a-415b-836a-23fea8e316c6\" class=\"colab-df-container\">\n",
              "    <div>\n",
              "<style scoped>\n",
              "    .dataframe tbody tr th:only-of-type {\n",
              "        vertical-align: middle;\n",
              "    }\n",
              "\n",
              "    .dataframe tbody tr th {\n",
              "        vertical-align: top;\n",
              "    }\n",
              "\n",
              "    .dataframe thead th {\n",
              "        text-align: right;\n",
              "    }\n",
              "</style>\n",
              "<table border=\"1\" class=\"dataframe\">\n",
              "  <thead>\n",
              "    <tr style=\"text-align: right;\">\n",
              "      <th></th>\n",
              "      <th>texto</th>\n",
              "      <th>polaridade</th>\n",
              "    </tr>\n",
              "  </thead>\n",
              "  <tbody>\n",
              "    <tr>\n",
              "      <th>0</th>\n",
              "      <td>bem macio felpudo recomendo preço imbatível en...</td>\n",
              "      <td>1.0</td>\n",
              "    </tr>\n",
              "    <tr>\n",
              "      <th>1</th>\n",
              "      <td>produto excepcional recomendo inovador gostoso...</td>\n",
              "      <td>1.0</td>\n",
              "    </tr>\n",
              "    <tr>\n",
              "      <th>2</th>\n",
              "      <td>recebi produto antes prazo veio defeito trava ...</td>\n",
              "      <td>0.0</td>\n",
              "    </tr>\n",
              "    <tr>\n",
              "      <th>3</th>\n",
              "      <td>bom custo beneficio adequado pessoas fazem uso...</td>\n",
              "      <td>1.0</td>\n",
              "    </tr>\n",
              "    <tr>\n",
              "      <th>4</th>\n",
              "      <td>ótmo produto atendeu expectativas entrega ocor...</td>\n",
              "      <td>1.0</td>\n",
              "    </tr>\n",
              "    <tr>\n",
              "      <th>...</th>\n",
              "      <td>...</td>\n",
              "      <td>...</td>\n",
              "    </tr>\n",
              "    <tr>\n",
              "      <th>116053</th>\n",
              "      <td>ótimo jogo melhores joguei entrega produto loj...</td>\n",
              "      <td>1.0</td>\n",
              "    </tr>\n",
              "    <tr>\n",
              "      <th>116054</th>\n",
              "      <td>smarthphone perfeito bom economia energia perf...</td>\n",
              "      <td>1.0</td>\n",
              "    </tr>\n",
              "    <tr>\n",
              "      <th>116055</th>\n",
              "      <td>chateado gostaria vcs resolve rápido pq pagand...</td>\n",
              "      <td>0.0</td>\n",
              "    </tr>\n",
              "    <tr>\n",
              "      <th>116056</th>\n",
              "      <td>produto anunciado site dizia algodão porém rec...</td>\n",
              "      <td>0.0</td>\n",
              "    </tr>\n",
              "    <tr>\n",
              "      <th>116057</th>\n",
              "      <td>recebi produto consta entregue site ja reclame...</td>\n",
              "      <td>0.0</td>\n",
              "    </tr>\n",
              "  </tbody>\n",
              "</table>\n",
              "<p>116058 rows × 2 columns</p>\n",
              "</div>\n",
              "    <div class=\"colab-df-buttons\">\n",
              "\n",
              "  <div class=\"colab-df-container\">\n",
              "    <button class=\"colab-df-convert\" onclick=\"convertToInteractive('df-dda789f5-907a-415b-836a-23fea8e316c6')\"\n",
              "            title=\"Convert this dataframe to an interactive table.\"\n",
              "            style=\"display:none;\">\n",
              "\n",
              "  <svg xmlns=\"http://www.w3.org/2000/svg\" height=\"24px\" viewBox=\"0 -960 960 960\">\n",
              "    <path d=\"M120-120v-720h720v720H120Zm60-500h600v-160H180v160Zm220 220h160v-160H400v160Zm0 220h160v-160H400v160ZM180-400h160v-160H180v160Zm440 0h160v-160H620v160ZM180-180h160v-160H180v160Zm440 0h160v-160H620v160Z\"/>\n",
              "  </svg>\n",
              "    </button>\n",
              "\n",
              "  <style>\n",
              "    .colab-df-container {\n",
              "      display:flex;\n",
              "      gap: 12px;\n",
              "    }\n",
              "\n",
              "    .colab-df-convert {\n",
              "      background-color: #E8F0FE;\n",
              "      border: none;\n",
              "      border-radius: 50%;\n",
              "      cursor: pointer;\n",
              "      display: none;\n",
              "      fill: #1967D2;\n",
              "      height: 32px;\n",
              "      padding: 0 0 0 0;\n",
              "      width: 32px;\n",
              "    }\n",
              "\n",
              "    .colab-df-convert:hover {\n",
              "      background-color: #E2EBFA;\n",
              "      box-shadow: 0px 1px 2px rgba(60, 64, 67, 0.3), 0px 1px 3px 1px rgba(60, 64, 67, 0.15);\n",
              "      fill: #174EA6;\n",
              "    }\n",
              "\n",
              "    .colab-df-buttons div {\n",
              "      margin-bottom: 4px;\n",
              "    }\n",
              "\n",
              "    [theme=dark] .colab-df-convert {\n",
              "      background-color: #3B4455;\n",
              "      fill: #D2E3FC;\n",
              "    }\n",
              "\n",
              "    [theme=dark] .colab-df-convert:hover {\n",
              "      background-color: #434B5C;\n",
              "      box-shadow: 0px 1px 3px 1px rgba(0, 0, 0, 0.15);\n",
              "      filter: drop-shadow(0px 1px 2px rgba(0, 0, 0, 0.3));\n",
              "      fill: #FFFFFF;\n",
              "    }\n",
              "  </style>\n",
              "\n",
              "    <script>\n",
              "      const buttonEl =\n",
              "        document.querySelector('#df-dda789f5-907a-415b-836a-23fea8e316c6 button.colab-df-convert');\n",
              "      buttonEl.style.display =\n",
              "        google.colab.kernel.accessAllowed ? 'block' : 'none';\n",
              "\n",
              "      async function convertToInteractive(key) {\n",
              "        const element = document.querySelector('#df-dda789f5-907a-415b-836a-23fea8e316c6');\n",
              "        const dataTable =\n",
              "          await google.colab.kernel.invokeFunction('convertToInteractive',\n",
              "                                                    [key], {});\n",
              "        if (!dataTable) return;\n",
              "\n",
              "        const docLinkHtml = 'Like what you see? Visit the ' +\n",
              "          '<a target=\"_blank\" href=https://colab.research.google.com/notebooks/data_table.ipynb>data table notebook</a>'\n",
              "          + ' to learn more about interactive tables.';\n",
              "        element.innerHTML = '';\n",
              "        dataTable['output_type'] = 'display_data';\n",
              "        await google.colab.output.renderOutput(dataTable, element);\n",
              "        const docLink = document.createElement('div');\n",
              "        docLink.innerHTML = docLinkHtml;\n",
              "        element.appendChild(docLink);\n",
              "      }\n",
              "    </script>\n",
              "  </div>\n",
              "\n",
              "\n",
              "    <div id=\"df-06cfe0df-3f58-43e7-a86d-38f24f9a16f2\">\n",
              "      <button class=\"colab-df-quickchart\" onclick=\"quickchart('df-06cfe0df-3f58-43e7-a86d-38f24f9a16f2')\"\n",
              "                title=\"Suggest charts\"\n",
              "                style=\"display:none;\">\n",
              "\n",
              "<svg xmlns=\"http://www.w3.org/2000/svg\" height=\"24px\"viewBox=\"0 0 24 24\"\n",
              "     width=\"24px\">\n",
              "    <g>\n",
              "        <path d=\"M19 3H5c-1.1 0-2 .9-2 2v14c0 1.1.9 2 2 2h14c1.1 0 2-.9 2-2V5c0-1.1-.9-2-2-2zM9 17H7v-7h2v7zm4 0h-2V7h2v10zm4 0h-2v-4h2v4z\"/>\n",
              "    </g>\n",
              "</svg>\n",
              "      </button>\n",
              "\n",
              "<style>\n",
              "  .colab-df-quickchart {\n",
              "      --bg-color: #E8F0FE;\n",
              "      --fill-color: #1967D2;\n",
              "      --hover-bg-color: #E2EBFA;\n",
              "      --hover-fill-color: #174EA6;\n",
              "      --disabled-fill-color: #AAA;\n",
              "      --disabled-bg-color: #DDD;\n",
              "  }\n",
              "\n",
              "  [theme=dark] .colab-df-quickchart {\n",
              "      --bg-color: #3B4455;\n",
              "      --fill-color: #D2E3FC;\n",
              "      --hover-bg-color: #434B5C;\n",
              "      --hover-fill-color: #FFFFFF;\n",
              "      --disabled-bg-color: #3B4455;\n",
              "      --disabled-fill-color: #666;\n",
              "  }\n",
              "\n",
              "  .colab-df-quickchart {\n",
              "    background-color: var(--bg-color);\n",
              "    border: none;\n",
              "    border-radius: 50%;\n",
              "    cursor: pointer;\n",
              "    display: none;\n",
              "    fill: var(--fill-color);\n",
              "    height: 32px;\n",
              "    padding: 0;\n",
              "    width: 32px;\n",
              "  }\n",
              "\n",
              "  .colab-df-quickchart:hover {\n",
              "    background-color: var(--hover-bg-color);\n",
              "    box-shadow: 0 1px 2px rgba(60, 64, 67, 0.3), 0 1px 3px 1px rgba(60, 64, 67, 0.15);\n",
              "    fill: var(--button-hover-fill-color);\n",
              "  }\n",
              "\n",
              "  .colab-df-quickchart-complete:disabled,\n",
              "  .colab-df-quickchart-complete:disabled:hover {\n",
              "    background-color: var(--disabled-bg-color);\n",
              "    fill: var(--disabled-fill-color);\n",
              "    box-shadow: none;\n",
              "  }\n",
              "\n",
              "  .colab-df-spinner {\n",
              "    border: 2px solid var(--fill-color);\n",
              "    border-color: transparent;\n",
              "    border-bottom-color: var(--fill-color);\n",
              "    animation:\n",
              "      spin 1s steps(1) infinite;\n",
              "  }\n",
              "\n",
              "  @keyframes spin {\n",
              "    0% {\n",
              "      border-color: transparent;\n",
              "      border-bottom-color: var(--fill-color);\n",
              "      border-left-color: var(--fill-color);\n",
              "    }\n",
              "    20% {\n",
              "      border-color: transparent;\n",
              "      border-left-color: var(--fill-color);\n",
              "      border-top-color: var(--fill-color);\n",
              "    }\n",
              "    30% {\n",
              "      border-color: transparent;\n",
              "      border-left-color: var(--fill-color);\n",
              "      border-top-color: var(--fill-color);\n",
              "      border-right-color: var(--fill-color);\n",
              "    }\n",
              "    40% {\n",
              "      border-color: transparent;\n",
              "      border-right-color: var(--fill-color);\n",
              "      border-top-color: var(--fill-color);\n",
              "    }\n",
              "    60% {\n",
              "      border-color: transparent;\n",
              "      border-right-color: var(--fill-color);\n",
              "    }\n",
              "    80% {\n",
              "      border-color: transparent;\n",
              "      border-right-color: var(--fill-color);\n",
              "      border-bottom-color: var(--fill-color);\n",
              "    }\n",
              "    90% {\n",
              "      border-color: transparent;\n",
              "      border-bottom-color: var(--fill-color);\n",
              "    }\n",
              "  }\n",
              "</style>\n",
              "\n",
              "      <script>\n",
              "        async function quickchart(key) {\n",
              "          const quickchartButtonEl =\n",
              "            document.querySelector('#' + key + ' button');\n",
              "          quickchartButtonEl.disabled = true;  // To prevent multiple clicks.\n",
              "          quickchartButtonEl.classList.add('colab-df-spinner');\n",
              "          try {\n",
              "            const charts = await google.colab.kernel.invokeFunction(\n",
              "                'suggestCharts', [key], {});\n",
              "          } catch (error) {\n",
              "            console.error('Error during call to suggestCharts:', error);\n",
              "          }\n",
              "          quickchartButtonEl.classList.remove('colab-df-spinner');\n",
              "          quickchartButtonEl.classList.add('colab-df-quickchart-complete');\n",
              "        }\n",
              "        (() => {\n",
              "          let quickchartButtonEl =\n",
              "            document.querySelector('#df-06cfe0df-3f58-43e7-a86d-38f24f9a16f2 button');\n",
              "          quickchartButtonEl.style.display =\n",
              "            google.colab.kernel.accessAllowed ? 'block' : 'none';\n",
              "        })();\n",
              "      </script>\n",
              "    </div>\n",
              "\n",
              "  <div id=\"id_be95f381-9b06-48c8-9c55-9481f2261652\">\n",
              "    <style>\n",
              "      .colab-df-generate {\n",
              "        background-color: #E8F0FE;\n",
              "        border: none;\n",
              "        border-radius: 50%;\n",
              "        cursor: pointer;\n",
              "        display: none;\n",
              "        fill: #1967D2;\n",
              "        height: 32px;\n",
              "        padding: 0 0 0 0;\n",
              "        width: 32px;\n",
              "      }\n",
              "\n",
              "      .colab-df-generate:hover {\n",
              "        background-color: #E2EBFA;\n",
              "        box-shadow: 0px 1px 2px rgba(60, 64, 67, 0.3), 0px 1px 3px 1px rgba(60, 64, 67, 0.15);\n",
              "        fill: #174EA6;\n",
              "      }\n",
              "\n",
              "      [theme=dark] .colab-df-generate {\n",
              "        background-color: #3B4455;\n",
              "        fill: #D2E3FC;\n",
              "      }\n",
              "\n",
              "      [theme=dark] .colab-df-generate:hover {\n",
              "        background-color: #434B5C;\n",
              "        box-shadow: 0px 1px 3px 1px rgba(0, 0, 0, 0.15);\n",
              "        filter: drop-shadow(0px 1px 2px rgba(0, 0, 0, 0.3));\n",
              "        fill: #FFFFFF;\n",
              "      }\n",
              "    </style>\n",
              "    <button class=\"colab-df-generate\" onclick=\"generateWithVariable('df')\"\n",
              "            title=\"Generate code using this dataframe.\"\n",
              "            style=\"display:none;\">\n",
              "\n",
              "  <svg xmlns=\"http://www.w3.org/2000/svg\" height=\"24px\"viewBox=\"0 0 24 24\"\n",
              "       width=\"24px\">\n",
              "    <path d=\"M7,19H8.4L18.45,9,17,7.55,7,17.6ZM5,21V16.75L18.45,3.32a2,2,0,0,1,2.83,0l1.4,1.43a1.91,1.91,0,0,1,.58,1.4,1.91,1.91,0,0,1-.58,1.4L9.25,21ZM18.45,9,17,7.55Zm-12,3A5.31,5.31,0,0,0,4.9,8.1,5.31,5.31,0,0,0,1,6.5,5.31,5.31,0,0,0,4.9,4.9,5.31,5.31,0,0,0,6.5,1,5.31,5.31,0,0,0,8.1,4.9,5.31,5.31,0,0,0,12,6.5,5.46,5.46,0,0,0,6.5,12Z\"/>\n",
              "  </svg>\n",
              "    </button>\n",
              "    <script>\n",
              "      (() => {\n",
              "      const buttonEl =\n",
              "        document.querySelector('#id_be95f381-9b06-48c8-9c55-9481f2261652 button.colab-df-generate');\n",
              "      buttonEl.style.display =\n",
              "        google.colab.kernel.accessAllowed ? 'block' : 'none';\n",
              "\n",
              "      buttonEl.onclick = () => {\n",
              "        google.colab.notebook.generateWithVariable('df');\n",
              "      }\n",
              "      })();\n",
              "    </script>\n",
              "  </div>\n",
              "\n",
              "    </div>\n",
              "  </div>\n"
            ],
            "text/plain": [
              "                                                    texto  polaridade\n",
              "0       bem macio felpudo recomendo preço imbatível en...         1.0\n",
              "1       produto excepcional recomendo inovador gostoso...         1.0\n",
              "2       recebi produto antes prazo veio defeito trava ...         0.0\n",
              "3       bom custo beneficio adequado pessoas fazem uso...         1.0\n",
              "4       ótmo produto atendeu expectativas entrega ocor...         1.0\n",
              "...                                                   ...         ...\n",
              "116053  ótimo jogo melhores joguei entrega produto loj...         1.0\n",
              "116054  smarthphone perfeito bom economia energia perf...         1.0\n",
              "116055  chateado gostaria vcs resolve rápido pq pagand...         0.0\n",
              "116056  produto anunciado site dizia algodão porém rec...         0.0\n",
              "116057  recebi produto consta entregue site ja reclame...         0.0\n",
              "\n",
              "[116058 rows x 2 columns]"
            ]
          },
          "execution_count": 32,
          "metadata": {},
          "output_type": "execute_result"
        }
      ],
      "source": [
        "df"
      ]
    },
    {
      "cell_type": "code",
      "execution_count": null,
      "metadata": {
        "id": "4KjNnFg3q5uX"
      },
      "outputs": [],
      "source": [
        "X = df['texto']\n",
        "y = df['polaridade']\n",
        "X_train, X_test, y_train, y_test = train_test_split(X, y, test_size=0.3)"
      ]
    },
    {
      "cell_type": "code",
      "execution_count": null,
      "metadata": {
        "id": "JcQs6WPNr0uy"
      },
      "outputs": [],
      "source": [
        "from sklearn.feature_extraction.text import CountVectorizer\n",
        "from sklearn.preprocessing import LabelEncoder"
      ]
    },
    {
      "cell_type": "code",
      "execution_count": null,
      "metadata": {
        "colab": {
          "base_uri": "https://localhost:8080/"
        },
        "id": "pLEC4TYkr884",
        "outputId": "59e7e889-227d-46dd-9824-22d78826bfce"
      },
      "outputs": [
        {
          "name": "stdout",
          "output_type": "stream",
          "text": [
            "Tamanho do conjunto de treino (textos): 81240\n",
            "Tamanho do conjunto de teste (textos): 34818\n",
            "Tamanho do conjunto de treino (sentimentos): 81240\n",
            "Tamanho do conjunto de teste (sentimentos): 34818\n"
          ]
        }
      ],
      "source": [
        "#Só para conferir o tamanho da base\n",
        "\n",
        "print(f\"Tamanho do conjunto de treino (textos): {len(X_train)}\")\n",
        "print(f\"Tamanho do conjunto de teste (textos): {len(X_test)}\")\n",
        "print(f\"Tamanho do conjunto de treino (sentimentos): {len(y_train)}\")\n",
        "print(f\"Tamanho do conjunto de teste (sentimentos): {len(y_test)}\")"
      ]
    },
    {
      "cell_type": "code",
      "execution_count": null,
      "metadata": {
        "id": "P3uIoAnWsIZ9"
      },
      "outputs": [],
      "source": [
        "vetorizador = CountVectorizer()\n",
        "vetorizador.fit(X_train)\n",
        "\n",
        "X_train = vetorizador.transform(X_train)\n",
        "X_test = vetorizador.transform(X_test)\n",
        "\n",
        "\n",
        "# Ler as frases ok?"
      ]
    },
    {
      "cell_type": "code",
      "execution_count": null,
      "metadata": {
        "colab": {
          "base_uri": "https://localhost:8080/"
        },
        "id": "t_GEm-movUWf",
        "outputId": "a35df56c-74bc-431a-bfeb-89ced5a4877f"
      },
      "outputs": [
        {
          "name": "stdout",
          "output_type": "stream",
          "text": [
            "Número de palavras únicas (features) no vocabulário: 39547\n",
            "Esta será a dimensão da camada de entrada da Rede Neural: 39547\n"
          ]
        }
      ],
      "source": [
        "dimensao_entrada = len(vetorizador.get_feature_names_out())\n",
        "print(f\"Número de palavras únicas (features) no vocabulário: {dimensao_entrada}\")\n",
        "print(f\"Esta será a dimensão da camada de entrada da Rede Neural: {dimensao_entrada}\")"
      ]
    },
    {
      "cell_type": "code",
      "execution_count": null,
      "metadata": {
        "id": "jD5uvx0Lsq50"
      },
      "outputs": [],
      "source": [
        "le = LabelEncoder()\n",
        "le.fit(y)\n",
        "y_train = le.transform(y_train)\n",
        "y_test = le.transform(y_test)\n",
        "\n",
        "# Classificar"
      ]
    },
    {
      "cell_type": "code",
      "execution_count": null,
      "metadata": {
        "id": "dWqeCQBbuQhw"
      },
      "outputs": [],
      "source": [
        "from keras.models import Sequential\n",
        "from keras.layers import Input, Dense"
      ]
    },
    {
      "cell_type": "code",
      "execution_count": null,
      "metadata": {
        "id": "H_2vIeBot8Oi"
      },
      "outputs": [],
      "source": [
        "model = Sequential([\n",
        "    Input(shape=(len(vetorizador.get_feature_names_out()),)),\n",
        "    Dense(100, activation='relu'), # Defini 100 neuronios para as camadas\n",
        "    Dense(2, activation='sigmoid') # Somente dois neuronios\n",
        "])\n",
        "model.compile(loss='sparse_categorical_crossentropy', # perda\n",
        "              optimizer='adam',\n",
        "              metrics=['accuracy'])"
      ]
    },
    {
      "cell_type": "code",
      "execution_count": null,
      "metadata": {
        "colab": {
          "base_uri": "https://localhost:8080/"
        },
        "id": "2kVNx0B6vCFS",
        "outputId": "8dd145e4-6e44-4feb-dc8f-a33fe11f9e71"
      },
      "outputs": [
        {
          "name": "stdout",
          "output_type": "stream",
          "text": [
            "Epoch 1/2\n",
            "\u001b[1m2539/2539\u001b[0m \u001b[32m━━━━━━━━━━━━━━━━━━━━\u001b[0m\u001b[37m\u001b[0m \u001b[1m133s\u001b[0m 52ms/step - accuracy: 0.9097 - loss: 0.2337\n",
            "Epoch 2/2\n",
            "\u001b[1m2539/2539\u001b[0m \u001b[32m━━━━━━━━━━━━━━━━━━━━\u001b[0m\u001b[37m\u001b[0m \u001b[1m146s\u001b[0m 53ms/step - accuracy: 0.9603 - loss: 0.1095\n"
          ]
        }
      ],
      "source": [
        "history = model.fit(X_train, y_train,\n",
        "          epochs=2, # epocas aqui é quantas vezes ele se estuda\n",
        "          verbose=1)  # sempre vai ser o feedback dele"
      ]
    },
    {
      "cell_type": "code",
      "execution_count": null,
      "metadata": {
        "colab": {
          "base_uri": "https://localhost:8080/"
        },
        "id": "ZzLvTrqqx1n9",
        "outputId": "88bab0e4-95c4-4ec6-9356-819acf0b7373"
      },
      "outputs": [
        {
          "name": "stdout",
          "output_type": "stream",
          "text": [
            "\u001b[1m1089/1089\u001b[0m \u001b[32m━━━━━━━━━━━━━━━━━━━━\u001b[0m\u001b[37m\u001b[0m \u001b[1m15s\u001b[0m 14ms/step - accuracy: 0.9387 - loss: 0.1801\n",
            "Accuracy: 0.9369004368782043\n"
          ]
        }
      ],
      "source": [
        "scores = model.evaluate(X_test, y_test, verbose=1)\n",
        "print(\"Accuracy:\", scores[1])"
      ]
    },
    {
      "cell_type": "markdown",
      "metadata": {
        "id": "Dsp2uGQpyjpH"
      },
      "source": [
        "**Vendo os gargalos - desbalanceamento e quantidade de dados**"
      ]
    },
    {
      "cell_type": "code",
      "execution_count": null,
      "metadata": {
        "colab": {
          "base_uri": "https://localhost:8080/",
          "height": 178
        },
        "id": "hPZvxAoQyrit",
        "outputId": "e2d1a6b3-9f04-4029-9483-f017bc03fb31"
      },
      "outputs": [
        {
          "data": {
            "text/html": [
              "<div>\n",
              "<style scoped>\n",
              "    .dataframe tbody tr th:only-of-type {\n",
              "        vertical-align: middle;\n",
              "    }\n",
              "\n",
              "    .dataframe tbody tr th {\n",
              "        vertical-align: top;\n",
              "    }\n",
              "\n",
              "    .dataframe thead th {\n",
              "        text-align: right;\n",
              "    }\n",
              "</style>\n",
              "<table border=\"1\" class=\"dataframe\">\n",
              "  <thead>\n",
              "    <tr style=\"text-align: right;\">\n",
              "      <th></th>\n",
              "      <th>count</th>\n",
              "    </tr>\n",
              "    <tr>\n",
              "      <th>polaridade</th>\n",
              "      <th></th>\n",
              "    </tr>\n",
              "  </thead>\n",
              "  <tbody>\n",
              "    <tr>\n",
              "      <th>1.0</th>\n",
              "      <td>80300</td>\n",
              "    </tr>\n",
              "    <tr>\n",
              "      <th>0.0</th>\n",
              "      <td>35758</td>\n",
              "    </tr>\n",
              "  </tbody>\n",
              "</table>\n",
              "</div><br><label><b>dtype:</b> int64</label>"
            ],
            "text/plain": [
              "polaridade\n",
              "1.0    80300\n",
              "0.0    35758\n",
              "Name: count, dtype: int64"
            ]
          },
          "execution_count": 55,
          "metadata": {},
          "output_type": "execute_result"
        }
      ],
      "source": [
        "df['polaridade'].value_counts()"
      ]
    },
    {
      "cell_type": "code",
      "execution_count": null,
      "metadata": {
        "colab": {
          "base_uri": "https://localhost:8080/",
          "height": 178
        },
        "id": "QUMvTM98yyw7",
        "outputId": "917a6132-6696-4bcc-9a53-176a92401967"
      },
      "outputs": [
        {
          "data": {
            "text/html": [
              "<div>\n",
              "<style scoped>\n",
              "    .dataframe tbody tr th:only-of-type {\n",
              "        vertical-align: middle;\n",
              "    }\n",
              "\n",
              "    .dataframe tbody tr th {\n",
              "        vertical-align: top;\n",
              "    }\n",
              "\n",
              "    .dataframe thead th {\n",
              "        text-align: right;\n",
              "    }\n",
              "</style>\n",
              "<table border=\"1\" class=\"dataframe\">\n",
              "  <thead>\n",
              "    <tr style=\"text-align: right;\">\n",
              "      <th></th>\n",
              "      <th>proportion</th>\n",
              "    </tr>\n",
              "    <tr>\n",
              "      <th>polaridade</th>\n",
              "      <th></th>\n",
              "    </tr>\n",
              "  </thead>\n",
              "  <tbody>\n",
              "    <tr>\n",
              "      <th>1.0</th>\n",
              "      <td>69.189543</td>\n",
              "    </tr>\n",
              "    <tr>\n",
              "      <th>0.0</th>\n",
              "      <td>30.810457</td>\n",
              "    </tr>\n",
              "  </tbody>\n",
              "</table>\n",
              "</div><br><label><b>dtype:</b> float64</label>"
            ],
            "text/plain": [
              "polaridade\n",
              "1.0    69.189543\n",
              "0.0    30.810457\n",
              "Name: proportion, dtype: float64"
            ]
          },
          "execution_count": 57,
          "metadata": {},
          "output_type": "execute_result"
        }
      ],
      "source": [
        "df['polaridade'].value_counts(normalize=True) * 100"
      ]
    },
    {
      "cell_type": "markdown",
      "metadata": {
        "id": "rHEkeCmlzN4A"
      },
      "source": [
        "esta bastante de proporcional, oq vai inviesar bastante o modelo, assim não vai dar certo"
      ]
    },
    {
      "cell_type": "code",
      "execution_count": null,
      "metadata": {
        "id": "_ULNCvrmzS3g"
      },
      "outputs": [],
      "source": [
        "dados = df.copy()"
      ]
    },
    {
      "cell_type": "code",
      "execution_count": null,
      "metadata": {
        "colab": {
          "base_uri": "https://localhost:8080/",
          "height": 178
        },
        "id": "K_428ScMzU8Y",
        "outputId": "48f16769-cb94-4541-b675-29cab5def586"
      },
      "outputs": [
        {
          "data": {
            "text/html": [
              "<div>\n",
              "<style scoped>\n",
              "    .dataframe tbody tr th:only-of-type {\n",
              "        vertical-align: middle;\n",
              "    }\n",
              "\n",
              "    .dataframe tbody tr th {\n",
              "        vertical-align: top;\n",
              "    }\n",
              "\n",
              "    .dataframe thead th {\n",
              "        text-align: right;\n",
              "    }\n",
              "</style>\n",
              "<table border=\"1\" class=\"dataframe\">\n",
              "  <thead>\n",
              "    <tr style=\"text-align: right;\">\n",
              "      <th></th>\n",
              "      <th>proportion</th>\n",
              "    </tr>\n",
              "    <tr>\n",
              "      <th>polaridade</th>\n",
              "      <th></th>\n",
              "    </tr>\n",
              "  </thead>\n",
              "  <tbody>\n",
              "    <tr>\n",
              "      <th>0.0</th>\n",
              "      <td>50.0</td>\n",
              "    </tr>\n",
              "    <tr>\n",
              "      <th>1.0</th>\n",
              "      <td>50.0</td>\n",
              "    </tr>\n",
              "  </tbody>\n",
              "</table>\n",
              "</div><br><label><b>dtype:</b> float64</label>"
            ],
            "text/plain": [
              "polaridade\n",
              "0.0    50.0\n",
              "1.0    50.0\n",
              "Name: proportion, dtype: float64"
            ]
          },
          "execution_count": 59,
          "metadata": {},
          "output_type": "execute_result"
        }
      ],
      "source": [
        "# 1. Separar os dados por classe\n",
        "positivos = dados[dados['polaridade'] == 1]\n",
        "negativos = dados[dados['polaridade'] == 0]\n",
        "\n",
        "# 2. Fazer undersampling da classe majoritária (positivos)\n",
        "positivos_balanceados = positivos.sample(n=len(negativos), random_state=42)\n",
        "\n",
        "# 3. Juntar as duas classes balanceadas\n",
        "dados_balanceado = pd.concat([positivos_balanceados, negativos])\n",
        "\n",
        "# 4. Embaralhar o dataframe final\n",
        "dados_balanceado = dados_balanceado.sample(frac=1, random_state=42).reset_index(drop=True) # Aleatoriamente\n",
        "\n",
        "# 5. Verificar proporções\n",
        "dados_balanceado['polaridade'].value_counts(normalize=True).mul(100).round(2)\n"
      ]
    },
    {
      "cell_type": "code",
      "execution_count": null,
      "metadata": {
        "id": "UfMIFmOJ0gzX"
      },
      "outputs": [],
      "source": [
        "dados = dados_balanceado.copy()"
      ]
    },
    {
      "cell_type": "code",
      "execution_count": null,
      "metadata": {
        "colab": {
          "base_uri": "https://localhost:8080/"
        },
        "id": "tTXgYKcK0jNO",
        "outputId": "dfe5883e-14eb-4b2c-ca9a-3720083bb0b0"
      },
      "outputs": [
        {
          "name": "stdout",
          "output_type": "stream",
          "text": [
            "<class 'pandas.core.frame.DataFrame'>\n",
            "RangeIndex: 71516 entries, 0 to 71515\n",
            "Data columns (total 2 columns):\n",
            " #   Column      Non-Null Count  Dtype  \n",
            "---  ------      --------------  -----  \n",
            " 0   texto       71516 non-null  object \n",
            " 1   polaridade  71516 non-null  float64\n",
            "dtypes: float64(1), object(1)\n",
            "memory usage: 1.1+ MB\n"
          ]
        }
      ],
      "source": [
        "dados.info()"
      ]
    },
    {
      "cell_type": "markdown",
      "metadata": {
        "id": "K3x8mqju0lUf"
      },
      "source": [
        "reduzimos a base para 71516  linhas\n"
      ]
    },
    {
      "cell_type": "code",
      "execution_count": null,
      "metadata": {
        "id": "UDhAFdSD0obs"
      },
      "outputs": [],
      "source": [
        "X = dados['texto']\n",
        "y = dados['polaridade']\n",
        "X_train, X_test, y_train, y_test = train_test_split(X, y, test_size=0.3)"
      ]
    },
    {
      "cell_type": "code",
      "execution_count": null,
      "metadata": {
        "colab": {
          "base_uri": "https://localhost:8080/"
        },
        "id": "vx3CmiBe0_jM",
        "outputId": "9734efc7-9b48-4b68-cee5-897b1984694f"
      },
      "outputs": [
        {
          "name": "stdout",
          "output_type": "stream",
          "text": [
            "Número de palavras únicas (features) no vocabulário: 39547\n",
            "Esta será a dimensão da camada de entrada da Rede Neural: 39547\n"
          ]
        }
      ],
      "source": [
        "dimensao_entrada = len(vetorizador.get_feature_names_out())\n",
        "print(f\"Número de palavras únicas (features) no vocabulário: {dimensao_entrada}\")\n",
        "print(f\"Esta será a dimensão da camada de entrada da Rede Neural: {dimensao_entrada}\")"
      ]
    },
    {
      "cell_type": "code",
      "execution_count": null,
      "metadata": {
        "colab": {
          "base_uri": "https://localhost:8080/"
        },
        "id": "IpCh859W1Cbr",
        "outputId": "e2d31b3c-78d3-4d5b-b692-afcafc493720"
      },
      "outputs": [
        {
          "name": "stdout",
          "output_type": "stream",
          "text": [
            "Tamanho do conjunto de treino (textos): 50061\n",
            "Tamanho do conjunto de teste (textos): 21455\n",
            "Tamanho do conjunto de treino (sentimentos): 50061\n",
            "Tamanho do conjunto de teste (sentimentos): 21455\n"
          ]
        }
      ],
      "source": [
        "#Só para conferir o tamanho da base - agora com menos dados de treino\n",
        "\n",
        "print(f\"Tamanho do conjunto de treino (textos): {len(X_train)}\")\n",
        "print(f\"Tamanho do conjunto de teste (textos): {len(X_test)}\")\n",
        "print(f\"Tamanho do conjunto de treino (sentimentos): {len(y_train)}\")\n",
        "print(f\"Tamanho do conjunto de teste (sentimentos): {len(y_test)}\")"
      ]
    },
    {
      "cell_type": "code",
      "execution_count": null,
      "metadata": {
        "id": "_Mx-SzJH1IbR"
      },
      "outputs": [],
      "source": [
        "vetorizador = CountVectorizer()\n",
        "vetorizador.fit(X_train)\n",
        "\n",
        "X_train = vetorizador.transform(X_train)\n",
        "X_test = vetorizador.transform(X_test)"
      ]
    },
    {
      "cell_type": "code",
      "execution_count": null,
      "metadata": {
        "id": "LMz8pFhU1Lrq"
      },
      "outputs": [],
      "source": [
        "le = LabelEncoder()\n",
        "le.fit(y)\n",
        "y_train = le.transform(y_train)\n",
        "y_test = le.transform(y_test)\n"
      ]
    },
    {
      "cell_type": "code",
      "execution_count": null,
      "metadata": {
        "id": "VMSxENbq1P_p"
      },
      "outputs": [],
      "source": [
        "model = Sequential([\n",
        "    Input(shape=(len(vetorizador.get_feature_names_out()),)),\n",
        "    Dense(100, activation='relu'), # Defini 100 neuronios para as camadas\n",
        "    Dense(2, activation='sigmoid') # Somente dois neuronios\n",
        "])\n",
        "model.compile(loss='sparse_categorical_crossentropy', # perda\n",
        "              optimizer='adam',\n",
        "              metrics=['accuracy'])"
      ]
    },
    {
      "cell_type": "code",
      "execution_count": null,
      "metadata": {
        "colab": {
          "base_uri": "https://localhost:8080/"
        },
        "id": "gfxrfhQH1jCl",
        "outputId": "f88948a2-d73d-4809-b4f1-fa49ee62231e"
      },
      "outputs": [
        {
          "name": "stdout",
          "output_type": "stream",
          "text": [
            "Epoch 1/2\n",
            "\u001b[1m1565/1565\u001b[0m \u001b[32m━━━━━━━━━━━━━━━━━━━━\u001b[0m\u001b[37m\u001b[0m \u001b[1m68s\u001b[0m 43ms/step - accuracy: 0.9048 - loss: 0.2698\n",
            "Epoch 2/2\n",
            "\u001b[1m1565/1565\u001b[0m \u001b[32m━━━━━━━━━━━━━━━━━━━━\u001b[0m\u001b[37m\u001b[0m \u001b[1m67s\u001b[0m 43ms/step - accuracy: 0.9614 - loss: 0.1105\n"
          ]
        }
      ],
      "source": [
        "history = model.fit(X_train, y_train,\n",
        "          epochs=2, # epocas aqui é quantas vezes ele se estuda\n",
        "          verbose=1)  # sempre vai ser o feedback dele"
      ]
    },
    {
      "cell_type": "code",
      "execution_count": null,
      "metadata": {
        "colab": {
          "background_save": true,
          "base_uri": "https://localhost:8080/"
        },
        "id": "Ey3XhJDu2IVk",
        "outputId": "5fee826e-76ac-4b6d-a741-14b1e7dba13b"
      },
      "outputs": [
        {
          "name": "stdout",
          "output_type": "stream",
          "text": [
            "\u001b[1m671/671\u001b[0m \u001b[32m━━━━━━━━━━━━━━━━━━━━\u001b[0m\u001b[37m\u001b[0m \u001b[1m9s\u001b[0m 13ms/step - accuracy: 0.9231 - loss: 0.2167\n",
            "Accuracy: 0.9263575077056885\n"
          ]
        }
      ],
      "source": [
        "scores = model.evaluate(X_test, y_test, verbose=1)\n",
        "print(\"Accuracy:\", scores[1])"
      ]
    }
  ],
  "metadata": {
    "colab": {
      "provenance": [],
      "authorship_tag": "ABX9TyNO6ADV//YcuMfMDNVuRcLh"
    },
    "kernelspec": {
      "display_name": "Python 3",
      "name": "python3"
    },
    "language_info": {
      "name": "python"
    }
  },
  "nbformat": 4,
  "nbformat_minor": 0
}